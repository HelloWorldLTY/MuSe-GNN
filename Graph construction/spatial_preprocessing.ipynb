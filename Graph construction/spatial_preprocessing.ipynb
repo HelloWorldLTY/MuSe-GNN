{
 "cells": [
  {
   "cell_type": "code",
   "execution_count": null,
   "metadata": {},
   "outputs": [],
   "source": [
    "import scanpy as sc\n",
    "import numpy as np\n",
    "import pandas as pd\n",
    "\n",
    "from scipy.spatial import Delaunay\n",
    "\n",
    "import anndata2ri\n",
    "import logging\n",
    "from scipy.sparse import issparse\n",
    "from CSCORE.CSCORE_IRLS import CSCORE_IRLS\n",
    "\n",
    "import rpy2.rinterface_lib.callbacks as rcb\n",
    "import rpy2.robjects as ro\n",
    "\n",
    "\n",
    "rcb.logger.setLevel(logging.ERROR)\n",
    "ro.pandas2ri.activate()\n",
    "anndata2ri.activate()\n",
    "%load_ext rpy2.ipython"
   ]
  },
  {
   "cell_type": "code",
   "execution_count": null,
   "metadata": {},
   "outputs": [],
   "source": [
    "adata = sc.read_h5ad(\"spatial_brain_rongprocessed.h5ad\")\n",
    "\n",
    "adata.obs['n_counts'] = np.array(np.sum(adata.X, axis = 1))\n",
    "\n",
    "if issparse(adata.X):\n",
    "    if not adata.X.has_sorted_indices:\n",
    "        adata.X.sort_indices()\n",
    "ro.globalenv[\"adata\"] = adata\n",
    "\n",
    "variable_gene = pd.read_csv(\"rankgenelist_brain.csv\", index_col=0)\n",
    "\n",
    "ro.globalenv[\"select_gene\"] = variable_gene.iloc[0:1000,:]\n"
   ]
  },
  {
   "cell_type": "code",
   "execution_count": null,
   "metadata": {},
   "outputs": [],
   "source": [
    "%%R\n",
    "seurat_obj = as.Seurat(adata, counts=\"X\", data = NULL)\n",
    "seurat_obj = RenameAssays(seurat_obj, originalexp = \"RNA\")\n",
    "res = SCTransform(object=seurat_obj, vst.flavor = \"v2\", residual.features=rownames(select_gene) , method = \"glmGamPoi\", verbose = FALSE)"
   ]
  },
  {
   "cell_type": "code",
   "execution_count": null,
   "metadata": {},
   "outputs": [],
   "source": [
    "var_cand = list(ro.r(\"seurat_obj@assays$RNA@counts@Dimnames[[1]]\"))\n",
    "adata.var_names = var_cand\n",
    "gene_list = list(ro.r(\"rownames(res@assays$SCT@scale.data)\"))\n",
    "norm_x = ro.r(\"res@assays$SCT@scale.data\")\n",
    "exp_matrix = pd.DataFrame(norm_x, index=gene_list)\n",
    "\n",
    "\n",
    "adata_new = adata[:,gene_list]\n",
    "\n",
    "df = pd.DataFrame(adata_new.X.todense(), index=adata_new.obs_names, columns = adata_new.var_names)\n",
    "\n",
    "df.to_csv(\"heart_atlas/visium_spatial_data.csv\")\n",
    "\n",
    "counts = adata_new.X\n",
    "seq_depth = adata_new.obs['n_counts'].values\n",
    "\n",
    "B_cell_result = CSCORE_IRLS(np.array(counts), seq_depth)\n",
    "p_value = B_cell_result[1]\n",
    "cor_matrix = (p_value<0.005)*1\n",
    "print(cor_matrix)\n",
    "\n",
    "exp_matrix.to_csv(f\"./brain_atlas/spatial_brain_rongse\"+\"_rna_expression.csv\")\n",
    "cor_matrix = pd.DataFrame(cor_matrix, index = gene_list, columns = gene_list)\n",
    "cor_matrix.to_csv(f\"./brain_atlas/spatial_brain_rongse\"+\"_pvalue.csv\")"
   ]
  }
 ],
 "metadata": {
  "language_info": {
   "name": "python"
  },
  "orig_nbformat": 4
 },
 "nbformat": 4,
 "nbformat_minor": 2
}
