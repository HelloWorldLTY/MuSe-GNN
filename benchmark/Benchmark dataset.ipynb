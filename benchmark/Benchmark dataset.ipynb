{
 "cells": [
  {
   "cell_type": "code",
   "execution_count": null,
   "id": "515e7e7b",
   "metadata": {},
   "outputs": [],
   "source": [
    "import numpy as np\n",
    "import torch\n",
    "import torch_geometric.nn\n",
    "import torch_geometric.data as data\n",
    "from torch_geometric.utils.convert import to_networkx\n",
    "\n",
    "import torch.nn as nn\n",
    "\n",
    "import scanpy as sc\n",
    "import numpy as np\n",
    "import pandas as pd\n",
    "\n",
    "def sigmoid(x):\n",
    "    return 1/(1+np.exp(-x))\n",
    "\n",
    "device = torch.device('cuda' if torch.cuda.is_available() else 'cpu')\n",
    "\n",
    "from torch_geometric.nn import TransformerConv"
   ]
  },
  {
   "cell_type": "code",
   "execution_count": null,
   "id": "04ef840a",
   "metadata": {},
   "outputs": [],
   "source": [
    "def set_seed(seed):\n",
    "    random.seed(seed)\n",
    "    np.random.seed(seed)\n",
    "    os.environ['PYTHONHASHEED'] = str(seed)\n",
    "    torch.manual_seed(seed)\n",
    "    torch.cuda.manual_seed_all(seed)\n",
    "    torch.backends.cudnn.benchmark = False\n",
    "    torch.backends.cudnn.deterministic = True"
   ]
  },
  {
   "cell_type": "code",
   "execution_count": null,
   "id": "b65a61ee",
   "metadata": {},
   "outputs": [],
   "source": [
    "set_seed(0)"
   ]
  },
  {
   "attachments": {},
   "cell_type": "markdown",
   "id": "40d6683d",
   "metadata": {},
   "source": [
    "# Here we use heart as one example"
   ]
  },
  {
   "cell_type": "code",
   "execution_count": null,
   "id": "e9b7a48c",
   "metadata": {},
   "outputs": [],
   "source": [
    "# for specific encoder/decoder\n",
    "# tissue_list = { \n",
    "#                \"heart\":[233, 676, 783, 947,266, 223, 233, 978, 928, 852, 839, 733]}\n",
    "\n",
    "\n",
    "tissue_list = { \n",
    "               \"scrna_heart\":['D4',\n",
    " 'H2',\n",
    " 'H3',\n",
    " 'D6',\n",
    " 'D2',\n",
    " 'H7',\n",
    " 'D11',\n",
    " 'D3',\n",
    " 'D1',\n",
    " 'D5',\n",
    " 'H4',\n",
    " 'D7',\n",
    " 'H6',\n",
    " 'H5',\n",
    " 'G19'], \n",
    "}\n",
    "\n",
    "# construct graph batch\n",
    "# based on simulation results\n",
    "graph_list = []\n",
    "cor_list = []\n",
    "label_list = []\n",
    "count = 0\n",
    "\n",
    "for tissue in tissue_list.keys():\n",
    "    for i in tissue_list[tissue]:\n",
    "        print(i)\n",
    "        pathway_count = f\"./heart_atlas/{tissue}_\" + i + \"_rna_expression\" + \".csv\"\n",
    "        pathway_matrix = f\"./heart_atlas/{tissue}_\" + i + \"_pvalue\" + \".csv\"\n",
    "\n",
    "        pd_adata_new =  pd.read_csv(pathway_count, index_col=0)\n",
    "        correlation = pd.read_csv(pathway_matrix, index_col=0)\n",
    "        cor_list.append(correlation)\n",
    "\n",
    "        print(correlation.shape)\n",
    "        print(pd_adata_new.shape)\n",
    "        adata = sc.AnnData(pd_adata_new)\n",
    "\n",
    "        adata_new = adata.copy()\n",
    "        edges_new = np.array([np.nonzero(correlation.values)[0],np.nonzero(correlation.values)[1]])\n",
    "        graph = data.Data(x=torch.FloatTensor(adata_new.X.copy()), edge_index=torch.FloatTensor(edges_new).long())\n",
    "\n",
    "        vis = to_networkx(graph)\n",
    "        graph.gene_list = pd_adata_new.index\n",
    "        graph.show_index = tissue +\"__\" + str(i)\n",
    "\n",
    "        graph_list.append(graph)\n",
    "        label_list.append(tissue)\n",
    "        \n",
    "        count +=1"
   ]
  },
  {
   "cell_type": "code",
   "execution_count": null,
   "id": "7691325c",
   "metadata": {},
   "outputs": [],
   "source": [
    "# with open(\"heart_rna_graph_list\", \"wb\") as fp:\n",
    "#     pickle.dump(graph_list, fp)\n",
    "# with open(\"heart_rna_cor_list\", \"wb\") as fp:\n",
    "#     pickle.dump(cor_list, fp)\n",
    "# with open(\"heart_rna_label_list\", \"wb\") as fp:\n",
    "#     pickle.dump(label_list, fp)"
   ]
  },
  {
   "cell_type": "code",
   "execution_count": null,
   "id": "17ec3558",
   "metadata": {},
   "outputs": [],
   "source": []
  },
  {
   "cell_type": "code",
   "execution_count": null,
   "id": "8e853e0c",
   "metadata": {},
   "outputs": [],
   "source": [
    "class MLPEncoder_Multiinput(torch.nn.Module):\n",
    "    def __init__(self, out_channels, graph_list, label_list):\n",
    "        super(MLPEncoder_Multiinput, self).__init__()\n",
    "        self.activ = nn.Mish()\n",
    "        \n",
    "        conv_dict = {}\n",
    "        for i in graph_list:\n",
    "            conv_dict[i.show_index] = nn.Linear(i.x.shape[1], out_channels*4)\n",
    "        self.convl1 = nn.ModuleDict(conv_dict)\n",
    "        \n",
    "    def forward(self, x, edge_index, show_index):\n",
    "        x = self.convl1[show_index](x)\n",
    "        x = self.activ(x)\n",
    "        return x"
   ]
  },
  {
   "cell_type": "code",
   "execution_count": null,
   "id": "c0959d8c",
   "metadata": {},
   "outputs": [],
   "source": [
    "class MLPEncoder_Commoninput(torch.nn.Module):\n",
    "    def __init__(self, out_channels, graph_list, label_list):\n",
    "        super(MLPEncoder_Commoninput, self).__init__()\n",
    "        self.activ = nn.Mish()\n",
    "        \n",
    "        conv_dict_l2 = {}\n",
    "        conv_dict_l3 = {}\n",
    "        tissue_specific_list = list(set(label_list))\n",
    "        \n",
    "        for i in tissue_specific_list:\n",
    "            conv_dict_l2[i] = nn.Linear(out_channels*4, out_channels*2)\n",
    "            conv_dict_l3[i] = nn.Linear(out_channels*2, out_channels)\n",
    "        self.convl2 = nn.ModuleDict(conv_dict_l2)\n",
    "        self.convl3 = nn.ModuleDict(conv_dict_l3)\n",
    "        \n",
    "    \n",
    "    def get_weight(self, show_index):\n",
    "        return self.convl2[show_index.split('__')[0]].state_dict(), self.convl3[show_index.split('__')[0]].state_dict()\n",
    "            \n",
    "        \n",
    "    def forward(self, x, edge_index, show_index):\n",
    "        x = self.convl2[show_index.split('__')[0]](x)\n",
    "        x = self.activ(x)\n",
    "        return self.convl3[show_index.split('__')[0]](x)\n",
    "    "
   ]
  },
  {
   "cell_type": "code",
   "execution_count": null,
   "id": "edb69cdf",
   "metadata": {},
   "outputs": [],
   "source": [
    "class MLP_edge_Decoder(torch.nn.Module):\n",
    "    def __init__(self, in_channels, out_channels, graph_list):\n",
    "        super(MLP_edge_Decoder, self).__init__()\n",
    "        \n",
    "        dec_dict = {}\n",
    "        for i in graph_list:\n",
    "            dec_dict[i.show_index] = torch.nn.Sequential(\n",
    "                                              nn.Linear(in_channels,  out_channels)\n",
    "                                             , nn.Mish(),\n",
    "                                              nn.Linear(out_channels,  out_channels) \n",
    "                                              ,nn.Mish(),\n",
    "                                              nn.Linear(out_channels,  out_channels)\n",
    "                                             )\n",
    "        self.MLP = nn.ModuleDict(dec_dict)\n",
    "        \n",
    "    def forward(self, x, show_index):\n",
    "        x = self.MLP[show_index](x)\n",
    "        return torch.sigmoid(x)"
   ]
  },
  {
   "cell_type": "code",
   "execution_count": null,
   "id": "3a169edb",
   "metadata": {},
   "outputs": [],
   "source": [
    "gene_encoder_is = MLPEncoder_Multiinput(32, graph_list, label_list).to(device)\n",
    "gene_encoder_com = MLPEncoder_Commoninput(32, graph_list, label_list).to(device)"
   ]
  },
  {
   "cell_type": "code",
   "execution_count": null,
   "id": "e5caeae7",
   "metadata": {},
   "outputs": [],
   "source": [
    "gene_decoder = MLP_edge_Decoder(1000,1000,graph_list).to(device)"
   ]
  },
  {
   "cell_type": "code",
   "execution_count": null,
   "id": "0a35a80a",
   "metadata": {},
   "outputs": [],
   "source": [
    "optimizer_enc_is = torch.optim.Adam(gene_encoder_is.parameters(), lr=1e-4)\n",
    "optimizer_enc_com = torch.optim.Adam(gene_encoder_com.parameters(), lr=1e-4)"
   ]
  },
  {
   "cell_type": "code",
   "execution_count": null,
   "id": "1cde2adc",
   "metadata": {
    "scrolled": true
   },
   "outputs": [],
   "source": [
    "optimizer_enc_com"
   ]
  },
  {
   "cell_type": "code",
   "execution_count": null,
   "id": "829d7e4f",
   "metadata": {},
   "outputs": [],
   "source": [
    "optimizer_dec2 = torch.optim.Adam(gene_decoder.parameters(), lr=1e-3)"
   ]
  },
  {
   "cell_type": "code",
   "execution_count": null,
   "id": "0e4cc7fe",
   "metadata": {},
   "outputs": [],
   "source": [
    "loss_f = nn.BCELoss()"
   ]
  },
  {
   "cell_type": "code",
   "execution_count": null,
   "id": "dc02c982",
   "metadata": {},
   "outputs": [],
   "source": [
    "Z = np.load(\"graph_sim_heartsctransform_new.npy\")"
   ]
  },
  {
   "cell_type": "code",
   "execution_count": null,
   "id": "eb9b6c80",
   "metadata": {
    "scrolled": true
   },
   "outputs": [],
   "source": [
    "for epoch in range(2000):\n",
    "    \n",
    "    loss = 0\n",
    "    \n",
    "    for i in range(0,len(graph_list)):\n",
    "        \n",
    "        optimizer_enc_is.zero_grad(set_to_none=True)\n",
    "        optimizer_enc_com.zero_grad(set_to_none=True)\n",
    "        optimizer_dec2.zero_grad(set_to_none=True)\n",
    "        \n",
    "\n",
    "        graph = graph_list[i].to(device)\n",
    "        \n",
    "        x = graph.x\n",
    "        train_pos_edge_index = graph.edge_index.long()\n",
    "        \n",
    "        x = gene_encoder_is(x, train_pos_edge_index, graph.show_index)\n",
    "        z = gene_encoder_com(x, train_pos_edge_index, graph.show_index)\n",
    "        \n",
    "        edge_adj = torch.FloatTensor(cor_list[i].values).to(device)\n",
    "        \n",
    "        adj = torch.matmul(z, z.t())\n",
    "        edge_reconstruct = gene_decoder(adj, graph.show_index)\n",
    "        \n",
    "        loss = loss_f(edge_reconstruct.flatten(), edge_adj.flatten())\n",
    "        \n",
    "        if epoch % 200 ==0:\n",
    "            print(loss)\n",
    "    \n",
    "        loss.backward()\n",
    "        optimizer_enc_is.step()\n",
    "        optimizer_enc_com.step()\n",
    "        optimizer_dec2.step()\n",
    "    print(\"epoch finish\")"
   ]
  },
  {
   "cell_type": "code",
   "execution_count": null,
   "id": "d04baa30",
   "metadata": {},
   "outputs": [],
   "source": [
    "emb_list = []\n",
    "gene_list = []\n",
    "tissue_list = []"
   ]
  },
  {
   "cell_type": "code",
   "execution_count": null,
   "id": "c1e3d485",
   "metadata": {},
   "outputs": [],
   "source": [
    "graph.show_index"
   ]
  },
  {
   "cell_type": "code",
   "execution_count": null,
   "id": "964fe4de",
   "metadata": {},
   "outputs": [],
   "source": [
    "with torch.no_grad():\n",
    "    for i in range(0,len(graph_list)):\n",
    "        graph = graph_list[i].to(device)\n",
    "        x = graph.x\n",
    "        train_pos_edge_index = graph.edge_index.long()\n",
    "        \n",
    "        x = gene_encoder_is(x, train_pos_edge_index, graph.show_index)\n",
    "        z = gene_encoder_com(x, train_pos_edge_index, graph.show_index)\n",
    "        \n",
    "        emb_list.append(z.cpu().numpy())\n",
    "        \n",
    "        gene_list.append(graph.gene_list)\n",
    "        tissue_list.append([graph.show_index for j in range(len(x))])"
   ]
  },
  {
   "cell_type": "code",
   "execution_count": null,
   "id": "2d2b6427",
   "metadata": {},
   "outputs": [],
   "source": [
    "adata = sc.AnnData(np.concatenate(emb_list))"
   ]
  },
  {
   "cell_type": "code",
   "execution_count": null,
   "id": "e36da2c3",
   "metadata": {},
   "outputs": [],
   "source": [
    "adata"
   ]
  },
  {
   "cell_type": "code",
   "execution_count": null,
   "id": "65c2dac2",
   "metadata": {},
   "outputs": [],
   "source": [
    "adata.obs['gene'] = np.concatenate(gene_list)\n",
    "adata.obs['tissue'] = np.concatenate(tissue_list)"
   ]
  },
  {
   "cell_type": "code",
   "execution_count": null,
   "id": "c5c3198b",
   "metadata": {},
   "outputs": [],
   "source": [
    "adata.obs['tissue']"
   ]
  },
  {
   "cell_type": "code",
   "execution_count": null,
   "id": "d0befae7",
   "metadata": {},
   "outputs": [],
   "source": [
    "sc.pp.neighbors(adata, use_rep='X')\n",
    "sc.tl.umap(adata)"
   ]
  },
  {
   "cell_type": "code",
   "execution_count": null,
   "id": "7baa8292",
   "metadata": {
    "scrolled": true
   },
   "outputs": [],
   "source": [
    "sc.pl.umap(adata, color='tissue')"
   ]
  },
  {
   "cell_type": "code",
   "execution_count": null,
   "id": "9ae5d219",
   "metadata": {},
   "outputs": [],
   "source": [
    "sc.tl.leiden(adata)"
   ]
  },
  {
   "cell_type": "code",
   "execution_count": null,
   "id": "85478c6b",
   "metadata": {
    "scrolled": false
   },
   "outputs": [],
   "source": [
    "sc.pl.umap(adata, color='leiden')"
   ]
  },
  {
   "cell_type": "code",
   "execution_count": null,
   "id": "7ff5ec1e",
   "metadata": {},
   "outputs": [],
   "source": [
    "adata"
   ]
  },
  {
   "cell_type": "code",
   "execution_count": null,
   "id": "5ab49922",
   "metadata": {},
   "outputs": [],
   "source": [
    "adata.write_h5ad(\"heart_global/heart_umi_sharedAutoencoder.h5ad\")"
   ]
  },
  {
   "cell_type": "code",
   "execution_count": null,
   "id": "9b2a1c7b",
   "metadata": {},
   "outputs": [],
   "source": [
    "class GCNEncoder_Multiinput(torch.nn.Module):\n",
    "    def __init__(self, out_channels, graph_list, label_list):\n",
    "        super(GCNEncoder_Multiinput, self).__init__()\n",
    "        self.activ = nn.Mish()\n",
    "        \n",
    "        conv_dict = {}\n",
    "        for i in graph_list:\n",
    "            conv_dict[i.show_index] = torch_geometric.nn.Sequential('x, edge_index', [(TransformerConv(i.x.shape[1], out_channels, heads = 4),'x, edge_index -> x'),\n",
    "                                                     (torch_geometric.nn.GraphNorm(out_channels*4), 'x -> x')])\n",
    "        self.convl1 = nn.ModuleDict(conv_dict)\n",
    "    \n",
    "        \n",
    "    def forward(self, x, edge_index, show_index):\n",
    "        x = self.convl1[show_index](x, edge_index)\n",
    "        x = self.activ(x)\n",
    "        return x"
   ]
  },
  {
   "cell_type": "code",
   "execution_count": null,
   "id": "87d0e582",
   "metadata": {},
   "outputs": [],
   "source": [
    "class GCNEncoder_Commoninput(torch.nn.Module):\n",
    "    def __init__(self, out_channels, graph_list, label_list):\n",
    "        super(GCNEncoder_Commoninput, self).__init__()\n",
    "        self.activ = nn.Mish()\n",
    "        \n",
    "        conv_dict_l2 = {}\n",
    "        conv_dict_l3 = {}\n",
    "        tissue_specific_list = list(set(label_list))\n",
    "        \n",
    "        for i in tissue_specific_list:\n",
    "            conv_dict_l2[i] = torch_geometric.nn.Sequential('x, edge_index', [(TransformerConv(out_channels*4, out_channels, heads = 2),'x, edge_index -> x'),\n",
    "                                                     (torch_geometric.nn.GraphNorm(out_channels*2), 'x -> x')])\n",
    "            conv_dict_l3[i] = TransformerConv(out_channels*2, out_channels)\n",
    "        self.convl2 = nn.ModuleDict(conv_dict_l2)\n",
    "        self.convl3 = nn.ModuleDict(conv_dict_l3)\n",
    "        \n",
    "        self.gn = torch_geometric.nn.GraphNorm(out_channels*2)\n",
    "        \n",
    "        \n",
    "    \n",
    "    def get_weight(self, show_index):\n",
    "        return self.convl2[show_index.split('__')[0]].state_dict(), self.convl3[show_index.split('__')[0]].state_dict()\n",
    "            \n",
    "        \n",
    "    def forward(self, x, edge_index, show_index):\n",
    "        x = self.convl2[show_index.split('__')[0]](x, edge_index)\n",
    "        x = self.activ(x)\n",
    "        return self.convl3[show_index.split('__')[0]](x, edge_index)"
   ]
  },
  {
   "cell_type": "code",
   "execution_count": null,
   "id": "57e895ec",
   "metadata": {},
   "outputs": [],
   "source": [
    "class MLP_edge_Decoder(torch.nn.Module):\n",
    "    def __init__(self, in_channels, out_channels, graph_list):\n",
    "        super(MLP_edge_Decoder, self).__init__()\n",
    "        \n",
    "        dec_dict = {}\n",
    "        for i in graph_list:\n",
    "            dec_dict[i.show_index] = torch.nn.Sequential(\n",
    "                                              nn.Linear(in_channels,  out_channels)\n",
    "                                             , nn.Mish(),\n",
    "                                              nn.Linear(out_channels,  out_channels) \n",
    "                                              ,nn.Mish(),\n",
    "                                              nn.Linear(out_channels,  out_channels)\n",
    "                                             )\n",
    "        self.MLP = nn.ModuleDict(dec_dict)\n",
    "        \n",
    "    def forward(self, x, show_index):\n",
    "        x = self.MLP[show_index](x)\n",
    "        return torch.sigmoid(x)"
   ]
  },
  {
   "cell_type": "code",
   "execution_count": null,
   "id": "7a276780",
   "metadata": {},
   "outputs": [],
   "source": [
    "from torch_geometric.nn import DataParallel"
   ]
  },
  {
   "cell_type": "code",
   "execution_count": null,
   "id": "0a947311",
   "metadata": {},
   "outputs": [],
   "source": [
    "gene_encoder_is = GCNEncoder_Multiinput(32, graph_list, label_list).to(device)\n",
    "gene_encoder_com = GCNEncoder_Commoninput(32, graph_list, label_list).to(device)"
   ]
  },
  {
   "cell_type": "code",
   "execution_count": null,
   "id": "1ae83105",
   "metadata": {},
   "outputs": [],
   "source": [
    "gene_decoder = MLP_edge_Decoder(1000,1000,graph_list).to(device)"
   ]
  },
  {
   "cell_type": "code",
   "execution_count": null,
   "id": "91b8d2b6",
   "metadata": {},
   "outputs": [],
   "source": [
    "print(f\"Let's use {torch.cuda.device_count()} GPUs!\")"
   ]
  },
  {
   "cell_type": "code",
   "execution_count": null,
   "id": "f69c3879",
   "metadata": {},
   "outputs": [],
   "source": [
    "optimizer_enc_is = torch.optim.Adam(gene_encoder_is.parameters(), lr=1e-4)\n",
    "optimizer_enc_com = torch.optim.Adam(gene_encoder_com.parameters(), lr=1e-4)"
   ]
  },
  {
   "cell_type": "code",
   "execution_count": null,
   "id": "7ad451c8",
   "metadata": {
    "scrolled": true
   },
   "outputs": [],
   "source": [
    "optimizer_enc_com"
   ]
  },
  {
   "cell_type": "code",
   "execution_count": null,
   "id": "98aa9a4b",
   "metadata": {},
   "outputs": [],
   "source": [
    "optimizer_dec2 = torch.optim.Adam(gene_decoder.parameters(), lr=1e-3)"
   ]
  },
  {
   "cell_type": "code",
   "execution_count": null,
   "id": "bc5ce7fd",
   "metadata": {},
   "outputs": [],
   "source": [
    "loss_f = nn.BCELoss()"
   ]
  },
  {
   "cell_type": "code",
   "execution_count": null,
   "id": "6d06e94b",
   "metadata": {},
   "outputs": [],
   "source": [
    "# Z = np.load(\"graph_sim_cscore_global.npy\")\n",
    "# Z = np.load(\"graph_sim_cscore_global_withrna.npy\")\n",
    "# Z = np.load(\"graph_sim_cscore_global_withrna_withspatial.npy\")"
   ]
  },
  {
   "cell_type": "code",
   "execution_count": null,
   "id": "3f2e3069",
   "metadata": {},
   "outputs": [],
   "source": [
    "Z"
   ]
  },
  {
   "cell_type": "code",
   "execution_count": null,
   "id": "72302f14",
   "metadata": {},
   "outputs": [],
   "source": []
  },
  {
   "cell_type": "code",
   "execution_count": null,
   "id": "19669079",
   "metadata": {},
   "outputs": [],
   "source": [
    "!nvidia-smi"
   ]
  },
  {
   "cell_type": "code",
   "execution_count": null,
   "id": "d494446e",
   "metadata": {
    "scrolled": true
   },
   "outputs": [],
   "source": [
    "for epoch in range(2000):\n",
    "    \n",
    "    loss = 0\n",
    "    \n",
    "    for i in range(0,len(graph_list)):\n",
    "        \n",
    "        optimizer_enc_is.zero_grad(set_to_none=True)\n",
    "        optimizer_enc_com.zero_grad(set_to_none=True)\n",
    "        optimizer_dec2.zero_grad(set_to_none=True)\n",
    "        \n",
    "\n",
    "        graph = graph_list[i].to(device)\n",
    "        \n",
    "        x = graph.x\n",
    "        train_pos_edge_index = graph.edge_index\n",
    "        \n",
    "        x = gene_encoder_is(x, train_pos_edge_index, graph.show_index)\n",
    "        z = gene_encoder_com(x, train_pos_edge_index, graph.show_index)\n",
    "        \n",
    "        edge_adj = torch.FloatTensor(cor_list[i].values).to(device)\n",
    "        \n",
    "        adj = torch.matmul(z, z.t())\n",
    "        edge_reconstruct = gene_decoder(adj, graph.show_index)\n",
    "        \n",
    "        loss = loss_f(edge_reconstruct.flatten(), edge_adj.flatten())\n",
    "        \n",
    "        if epoch % 200 ==0:\n",
    "            print(loss)\n",
    "                    \n",
    "        loss.backward()\n",
    "        \n",
    "        optimizer_enc_is.step()\n",
    "        optimizer_enc_com.step()\n",
    "        optimizer_dec2.step()\n",
    "    print(\"epoch finish\")"
   ]
  },
  {
   "cell_type": "code",
   "execution_count": null,
   "id": "2af366a5",
   "metadata": {},
   "outputs": [],
   "source": [
    "emb_list = []\n",
    "gene_list = []\n",
    "tissue_list = []"
   ]
  },
  {
   "cell_type": "code",
   "execution_count": null,
   "id": "dab38046",
   "metadata": {},
   "outputs": [],
   "source": [
    "graph.show_index"
   ]
  },
  {
   "cell_type": "code",
   "execution_count": null,
   "id": "d0b92ad1",
   "metadata": {},
   "outputs": [],
   "source": [
    "with torch.no_grad():\n",
    "    for i in range(0,len(graph_list)):\n",
    "        graph = graph_list[i].to(device)\n",
    "        x = graph.x\n",
    "        train_pos_edge_index = graph.edge_index.long()\n",
    "        \n",
    "        x = gene_encoder_is(x, train_pos_edge_index, graph.show_index)\n",
    "        z = gene_encoder_com(x, train_pos_edge_index, graph.show_index)\n",
    "        \n",
    "        emb_list.append(z.cpu().numpy())\n",
    "        \n",
    "        gene_list.append(graph.gene_list)\n",
    "        tissue_list.append([graph.show_index for j in range(len(x))])"
   ]
  },
  {
   "cell_type": "code",
   "execution_count": null,
   "id": "6d923d8e",
   "metadata": {},
   "outputs": [],
   "source": [
    "gene_list"
   ]
  },
  {
   "cell_type": "code",
   "execution_count": null,
   "id": "84c0ee60",
   "metadata": {},
   "outputs": [],
   "source": [
    "adata = sc.AnnData(np.concatenate(emb_list))"
   ]
  },
  {
   "cell_type": "code",
   "execution_count": null,
   "id": "33532737",
   "metadata": {},
   "outputs": [],
   "source": [
    "adata"
   ]
  },
  {
   "cell_type": "code",
   "execution_count": null,
   "id": "1284e430",
   "metadata": {},
   "outputs": [],
   "source": [
    "adata.obs['gene'] = np.concatenate(gene_list)\n",
    "adata.obs['tissue'] = np.concatenate(tissue_list)"
   ]
  },
  {
   "cell_type": "code",
   "execution_count": null,
   "id": "2dff08f8",
   "metadata": {},
   "outputs": [],
   "source": [
    "adata.obs['tissue']"
   ]
  },
  {
   "cell_type": "code",
   "execution_count": null,
   "id": "6c4b7dbc",
   "metadata": {},
   "outputs": [],
   "source": [
    "sc.pp.neighbors(adata, use_rep='X')\n",
    "sc.tl.umap(adata)"
   ]
  },
  {
   "cell_type": "code",
   "execution_count": null,
   "id": "34e00a74",
   "metadata": {
    "scrolled": false
   },
   "outputs": [],
   "source": [
    "sc.pl.umap(adata, color='tissue')"
   ]
  },
  {
   "cell_type": "code",
   "execution_count": null,
   "id": "e197ff5a",
   "metadata": {},
   "outputs": [],
   "source": [
    "sc.tl.leiden(adata)"
   ]
  },
  {
   "cell_type": "code",
   "execution_count": null,
   "id": "12a824cb",
   "metadata": {
    "scrolled": true
   },
   "outputs": [],
   "source": [
    "sc.pl.umap(adata, color='leiden')"
   ]
  },
  {
   "cell_type": "code",
   "execution_count": null,
   "id": "3a7343de",
   "metadata": {},
   "outputs": [],
   "source": [
    "adata.obs['tissue_new'] = [i.split(\"__\")[0] for i in adata.obs['tissue']]"
   ]
  },
  {
   "cell_type": "code",
   "execution_count": null,
   "id": "01a18028",
   "metadata": {
    "scrolled": true
   },
   "outputs": [],
   "source": [
    "sc.pl.umap(adata, color='tissue_new')"
   ]
  },
  {
   "cell_type": "code",
   "execution_count": null,
   "id": "b003c12a",
   "metadata": {},
   "outputs": [],
   "source": [
    "adata.write_h5ad(\"heart_global/heart_umi_shareGAE\")"
   ]
  },
  {
   "cell_type": "code",
   "execution_count": null,
   "id": "c25982d3",
   "metadata": {},
   "outputs": [],
   "source": []
  },
  {
   "attachments": {},
   "cell_type": "markdown",
   "id": "e6916d01",
   "metadata": {},
   "source": [
    "# PCA"
   ]
  },
  {
   "cell_type": "code",
   "execution_count": null,
   "id": "b5427ae5",
   "metadata": {},
   "outputs": [],
   "source": [
    "graph_list"
   ]
  },
  {
   "cell_type": "code",
   "execution_count": null,
   "id": "f177f611",
   "metadata": {},
   "outputs": [],
   "source": [
    "emb_list = []\n",
    "gene_list = []\n",
    "tissue_list = []"
   ]
  },
  {
   "cell_type": "code",
   "execution_count": null,
   "id": "555e12ac",
   "metadata": {},
   "outputs": [],
   "source": [
    "len(tissue_list)"
   ]
  },
  {
   "cell_type": "code",
   "execution_count": null,
   "id": "b85460f6",
   "metadata": {},
   "outputs": [],
   "source": [
    "for i in range(0,len(graph_list)):\n",
    "    graph = graph_list[i]\n",
    "    adata = sc.AnnData(graph.x.cpu().numpy())\n",
    "    sc.pp.scale(adata)\n",
    "    sc.tl.pca(adata, 32)\n",
    "\n",
    "    emb_list.append(adata.obsm['X_pca'])\n",
    "\n",
    "    gene_list.append(graph.gene_list)\n",
    "    tissue_list.append([graph.show_index for j in range(len(graph.x))])"
   ]
  },
  {
   "cell_type": "code",
   "execution_count": null,
   "id": "bf101d53",
   "metadata": {},
   "outputs": [],
   "source": [
    "adata = sc.AnnData(np.concatenate(emb_list))"
   ]
  },
  {
   "cell_type": "code",
   "execution_count": null,
   "id": "b073bd66",
   "metadata": {},
   "outputs": [],
   "source": [
    "adata"
   ]
  },
  {
   "cell_type": "code",
   "execution_count": null,
   "id": "baeff996",
   "metadata": {},
   "outputs": [],
   "source": [
    "adata.obs['gene'] = np.concatenate(gene_list)\n",
    "adata.obs['tissue'] = np.concatenate(tissue_list)"
   ]
  },
  {
   "cell_type": "code",
   "execution_count": null,
   "id": "29414787",
   "metadata": {},
   "outputs": [],
   "source": [
    "adata.obs['tissue']"
   ]
  },
  {
   "cell_type": "code",
   "execution_count": null,
   "id": "26f356ac",
   "metadata": {},
   "outputs": [],
   "source": [
    "sc.pp.neighbors(adata, use_rep='X')\n",
    "sc.tl.umap(adata)"
   ]
  },
  {
   "cell_type": "code",
   "execution_count": null,
   "id": "aec1a16d",
   "metadata": {
    "scrolled": false
   },
   "outputs": [],
   "source": [
    "sc.pl.umap(adata, color='tissue')"
   ]
  },
  {
   "cell_type": "code",
   "execution_count": null,
   "id": "91351db5",
   "metadata": {},
   "outputs": [],
   "source": [
    "sc.tl.leiden(adata)"
   ]
  },
  {
   "cell_type": "code",
   "execution_count": null,
   "id": "29b36239",
   "metadata": {
    "scrolled": true
   },
   "outputs": [],
   "source": [
    "sc.pl.umap(adata, color='leiden')"
   ]
  },
  {
   "cell_type": "code",
   "execution_count": null,
   "id": "09d62bf1",
   "metadata": {},
   "outputs": [],
   "source": [
    "adata.obs['tissue_new'] = [i.split(\"__\")[0] for i in adata.obs['tissue']]"
   ]
  },
  {
   "cell_type": "code",
   "execution_count": null,
   "id": "a81e183f",
   "metadata": {
    "scrolled": true
   },
   "outputs": [],
   "source": [
    "sc.pl.umap(adata, color='tissue_new')"
   ]
  },
  {
   "cell_type": "code",
   "execution_count": null,
   "id": "e112e992",
   "metadata": {},
   "outputs": [],
   "source": [
    "adata.write_h5ad(\"heart_global/heart_umi_PCA.h5ad\")"
   ]
  },
  {
   "cell_type": "code",
   "execution_count": null,
   "id": "d2d9517c",
   "metadata": {},
   "outputs": [],
   "source": []
  },
  {
   "attachments": {},
   "cell_type": "markdown",
   "id": "6f635764",
   "metadata": {},
   "source": [
    "# Gene2vec"
   ]
  },
  {
   "cell_type": "code",
   "execution_count": null,
   "id": "be1012fb",
   "metadata": {},
   "outputs": [],
   "source": [
    "import numpy as np\n",
    "from torch_geometric.utils.convert import to_networkx\n",
    "\n",
    "import numpy as np\n",
    "\n",
    "import scanpy as sc\n",
    "import numpy as np\n",
    "\n",
    "\n",
    "def sigmoid(x):\n",
    "    return 1/(1+np.exp(-x))"
   ]
  },
  {
   "cell_type": "code",
   "execution_count": null,
   "id": "d4319b34",
   "metadata": {},
   "outputs": [],
   "source": [
    "import gensim"
   ]
  },
  {
   "cell_type": "code",
   "execution_count": null,
   "id": "690bcfb6",
   "metadata": {},
   "outputs": [],
   "source": [
    "####training parameters########\n",
    "dimension = 32  # dimension of the embedding\n",
    "num_workers = 32  # number of worker threads\n",
    "sg = 1  # sg =1, skip-gram, sg =0, CBOW\n",
    "max_iter = 10  # number of iterations\n",
    "window_size = 1  # The maximum distance between the gene and predicted gene within a gene list\n",
    "txtOutput = True"
   ]
  },
  {
   "cell_type": "code",
   "execution_count": null,
   "id": "62d4f541",
   "metadata": {},
   "outputs": [],
   "source": [
    "# model = gensim.models.Word2Vec(gene_pairs, vector_size=dimension, window=window_size, min_count=1, workers=num_workers,sg=sg, )\n",
    "# model.train(gene_pairs,total_examples=model.corpus_count,epochs=max_iter)"
   ]
  },
  {
   "cell_type": "code",
   "execution_count": null,
   "id": "ae448bfb",
   "metadata": {},
   "outputs": [],
   "source": [
    "# vector = model.wv['ENSG00000158747.15'] "
   ]
  },
  {
   "cell_type": "code",
   "execution_count": null,
   "id": "c4ce9413",
   "metadata": {},
   "outputs": [],
   "source": [
    "# vector_list = np.zeros((1000,32))\n",
    "# gene_list = []\n",
    "# for num,i in enumerate(edge_list.index):\n",
    "#     vector_list[num] = model.wv[i] \n",
    "#     gene_list.append(i)"
   ]
  },
  {
   "cell_type": "code",
   "execution_count": null,
   "id": "15959f8b",
   "metadata": {},
   "outputs": [],
   "source": [
    "# gene_list"
   ]
  },
  {
   "cell_type": "code",
   "execution_count": null,
   "id": "e56d9ce7",
   "metadata": {},
   "outputs": [],
   "source": [
    "def generate_list(model, edge_list):\n",
    "    vector_list = np.zeros((1000,32))\n",
    "    gene_list = []\n",
    "    for num,i in enumerate(edge_list.index):\n",
    "        vector_list[num] = model.wv[i] \n",
    "        gene_list.append(i)\n",
    "    \n",
    "    return vector_list, gene_list"
   ]
  },
  {
   "cell_type": "code",
   "execution_count": null,
   "id": "4320435e",
   "metadata": {},
   "outputs": [],
   "source": [
    "vec_list = []\n",
    "gene_list_final = []\n",
    "\n",
    "for num,i in enumerate(graph_list):\n",
    "    edge_list = cor_list[num]\n",
    "    \n",
    "    nonz_index = np.nonzero(edge_list.values)\n",
    "    \n",
    "    gene_pairs = []\n",
    "    for i,j in zip(nonz_index[0], nonz_index[1]):\n",
    "        gene_pairs.append([edge_list.index[i], edge_list.columns[j]])\n",
    "        \n",
    "    model = gensim.models.Word2Vec(gene_pairs, vector_size=dimension, window=window_size, min_count=1, workers=num_workers,sg=sg, )\n",
    "    model.train(gene_pairs,total_examples=model.corpus_count,epochs=max_iter)\n",
    "    \n",
    "    print('finish gene2vec training')\n",
    "    vector_list = np.zeros((1000,32))\n",
    "    gene_list = []\n",
    "    for num,i in enumerate(edge_list.index):\n",
    "        vector_list[num] = model.wv[i] \n",
    "        gene_list.append(i)\n",
    "        \n",
    "    vec_list.append(vector_list)\n",
    "    gene_list_final.append(gene_list)\n",
    "    "
   ]
  },
  {
   "cell_type": "code",
   "execution_count": null,
   "id": "2b6246c7",
   "metadata": {},
   "outputs": [],
   "source": [
    "tissue_list = []\n",
    "for graph in graph_list:\n",
    "    label_list = [graph.show_index for i in range(len(graph.x))]\n",
    "    tissue_list.append(label_list)"
   ]
  },
  {
   "cell_type": "code",
   "execution_count": null,
   "id": "479cfbef",
   "metadata": {},
   "outputs": [],
   "source": [
    "np.concatenate(np.array(tissue_list))"
   ]
  },
  {
   "cell_type": "code",
   "execution_count": null,
   "id": "3dadca10",
   "metadata": {},
   "outputs": [],
   "source": [
    "adata = sc.AnnData(np.concatenate(np.array(vec_list)))"
   ]
  },
  {
   "cell_type": "code",
   "execution_count": null,
   "id": "9fe70ecb",
   "metadata": {},
   "outputs": [],
   "source": [
    "adata.obs['tissue'] = np.concatenate(np.array(tissue_list))"
   ]
  },
  {
   "cell_type": "code",
   "execution_count": null,
   "id": "60d7ce89",
   "metadata": {},
   "outputs": [],
   "source": [
    "adata.obs['gene'] = np.concatenate(np.array(gene_list_final))"
   ]
  },
  {
   "cell_type": "code",
   "execution_count": null,
   "id": "36d3c259",
   "metadata": {},
   "outputs": [],
   "source": [
    "sc.pp.neighbors(adata, use_rep='X')\n",
    "sc.tl.umap(adata)"
   ]
  },
  {
   "cell_type": "code",
   "execution_count": null,
   "id": "0e4c29a3",
   "metadata": {},
   "outputs": [],
   "source": [
    "sc.tl.leiden(adata)"
   ]
  },
  {
   "cell_type": "code",
   "execution_count": null,
   "id": "41d78fe3",
   "metadata": {},
   "outputs": [],
   "source": [
    "sc.pl.umap(adata, color='leiden')"
   ]
  },
  {
   "cell_type": "code",
   "execution_count": null,
   "id": "1a24bcad",
   "metadata": {},
   "outputs": [],
   "source": [
    "sc.pl.umap(adata, color='tissue')"
   ]
  },
  {
   "cell_type": "code",
   "execution_count": null,
   "id": "11d30257",
   "metadata": {},
   "outputs": [],
   "source": [
    "adata.write_h5ad('heart_global/heart_umi_gene2vec.h5ad')"
   ]
  },
  {
   "attachments": {},
   "cell_type": "markdown",
   "id": "fc413854",
   "metadata": {},
   "source": [
    "# scBERT"
   ]
  },
  {
   "cell_type": "code",
   "execution_count": null,
   "id": "dc276b5e",
   "metadata": {},
   "outputs": [],
   "source": [
    "# Please see the codes of scBERT\n",
    "# https://github.com/TencentAILabHealthcare/scBERT"
   ]
  },
  {
   "attachments": {},
   "cell_type": "markdown",
   "id": "b09f66f6",
   "metadata": {},
   "source": [
    "# GIANT"
   ]
  },
  {
   "cell_type": "code",
   "execution_count": null,
   "id": "fb3605da",
   "metadata": {},
   "outputs": [],
   "source": [
    "# Please see the codes of GIANT\n",
    "# https://github.com/chenhcs/GIANT"
   ]
  },
  {
   "attachments": {},
   "cell_type": "markdown",
   "id": "88ce389e",
   "metadata": {},
   "source": [
    "# GAE/VGAE"
   ]
  },
  {
   "cell_type": "code",
   "execution_count": null,
   "id": "8128832e",
   "metadata": {},
   "outputs": [],
   "source": [
    "# Please see the seperated file for VGAE/GAE"
   ]
  },
  {
   "attachments": {},
   "cell_type": "markdown",
   "id": "9d501535",
   "metadata": {},
   "source": [
    "# SUGRL"
   ]
  },
  {
   "cell_type": "code",
   "execution_count": null,
   "id": "2ca88f0c",
   "metadata": {},
   "outputs": [],
   "source": [
    "# Please see the codes of SUGRL\n",
    "# https://github.com/YujieMo/SUGRL"
   ]
  },
  {
   "attachments": {},
   "cell_type": "markdown",
   "id": "2c69368c",
   "metadata": {},
   "source": [
    "# GPS"
   ]
  },
  {
   "cell_type": "code",
   "execution_count": null,
   "id": "61f5623e",
   "metadata": {},
   "outputs": [],
   "source": [
    "# Please see the codes of GPS\n",
    "# https://pytorch-geometric.readthedocs.io/en/latest/generated/torch_geometric.nn.conv.GPSConv.html#torch_geometric.nn.conv.GPSConv"
   ]
  },
  {
   "attachments": {},
   "cell_type": "markdown",
   "id": "f2fe82dc",
   "metadata": {},
   "source": [
    "# Graphormer"
   ]
  },
  {
   "cell_type": "code",
   "execution_count": null,
   "id": "d2dfab39",
   "metadata": {},
   "outputs": [],
   "source": [
    "# Please see the codes of Graphormer\n",
    "# https://github.com/microsoft/Graphormer"
   ]
  }
 ],
 "metadata": {
  "kernelspec": {
   "display_name": "Python 3 (ipykernel)",
   "language": "python",
   "name": "python3"
  },
  "language_info": {
   "codemirror_mode": {
    "name": "ipython",
    "version": 3
   },
   "file_extension": ".py",
   "mimetype": "text/x-python",
   "name": "python",
   "nbconvert_exporter": "python",
   "pygments_lexer": "ipython3",
   "version": "3.8.15"
  }
 },
 "nbformat": 4,
 "nbformat_minor": 5
}
